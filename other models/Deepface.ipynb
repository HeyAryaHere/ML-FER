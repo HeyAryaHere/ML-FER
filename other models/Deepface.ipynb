{
 "cells": [
  {
   "cell_type": "code",
   "execution_count": 11,
   "id": "f97f3045",
   "metadata": {},
   "outputs": [],
   "source": [
    "from fer import FER\n",
    "from fer import Video\n",
    "import pandas as pd"
   ]
  },
  {
   "cell_type": "code",
   "execution_count": 12,
   "id": "4343c457",
   "metadata": {},
   "outputs": [],
   "source": [
    "emotion_detector = FER(mtcnn=True)"
   ]
  },
  {
   "cell_type": "code",
   "execution_count": 13,
   "id": "63581dfd",
   "metadata": {},
   "outputs": [],
   "source": [
    "# Define the path to video\n",
    "\n",
    "path_to_video = \"manas-try.mp4\"\n",
    "\n",
    "# Define video \n",
    "\n",
    "video = Video(path_to_video)"
   ]
  },
  {
   "cell_type": "code",
   "execution_count": 15,
   "id": "b3065c89",
   "metadata": {
    "scrolled": true
   },
   "outputs": [
    {
     "name": "stderr",
     "output_type": "stream",
     "text": [
      "INFO:fer:30.00 fps, 87 frames, 2.90 seconds\n",
      "INFO:fer:Making directories at output\n"
     ]
    },
    {
     "name": "stderr",
     "output_type": "stream",
     "text": [
      "100%|██████████████████████████████████████████████████████████████████████████████████████████████████████████████████| 87/87 [00:19<00:00,  4.36frames/s]\n",
      "INFO:fer:Completed analysis: saved to output\\manas-try_output.mp4\n",
      "INFO:fer:Starting to Zip\n",
      "INFO:fer:Compressing: 57%\n",
      "INFO:fer:Zip has finished\n"
     ]
    }
   ],
   "source": [
    "result = video.analyze(emotion_detector, display=True)"
   ]
  },
  {
   "cell_type": "code",
   "execution_count": 16,
   "id": "84794ca1",
   "metadata": {},
   "outputs": [
    {
     "data": {
      "text/html": [
       "<div>\n",
       "<style scoped>\n",
       "    .dataframe tbody tr th:only-of-type {\n",
       "        vertical-align: middle;\n",
       "    }\n",
       "\n",
       "    .dataframe tbody tr th {\n",
       "        vertical-align: top;\n",
       "    }\n",
       "\n",
       "    .dataframe thead th {\n",
       "        text-align: right;\n",
       "    }\n",
       "</style>\n",
       "<table border=\"1\" class=\"dataframe\">\n",
       "  <thead>\n",
       "    <tr style=\"text-align: right;\">\n",
       "      <th></th>\n",
       "      <th>box</th>\n",
       "      <th>angry</th>\n",
       "      <th>disgust</th>\n",
       "      <th>fear</th>\n",
       "      <th>happy</th>\n",
       "      <th>sad</th>\n",
       "      <th>surprise</th>\n",
       "      <th>neutral</th>\n",
       "    </tr>\n",
       "  </thead>\n",
       "  <tbody>\n",
       "    <tr>\n",
       "      <th>0</th>\n",
       "      <td>[244, 102, 203, 236]</td>\n",
       "      <td>0.00</td>\n",
       "      <td>0.0</td>\n",
       "      <td>0.0</td>\n",
       "      <td>0.99</td>\n",
       "      <td>0.0</td>\n",
       "      <td>0.00</td>\n",
       "      <td>0.00</td>\n",
       "    </tr>\n",
       "    <tr>\n",
       "      <th>1</th>\n",
       "      <td>[244, 104, 201, 236]</td>\n",
       "      <td>0.01</td>\n",
       "      <td>0.0</td>\n",
       "      <td>0.0</td>\n",
       "      <td>0.97</td>\n",
       "      <td>0.0</td>\n",
       "      <td>0.01</td>\n",
       "      <td>0.01</td>\n",
       "    </tr>\n",
       "    <tr>\n",
       "      <th>2</th>\n",
       "      <td>[244, 106, 199, 233]</td>\n",
       "      <td>0.01</td>\n",
       "      <td>0.0</td>\n",
       "      <td>0.0</td>\n",
       "      <td>0.97</td>\n",
       "      <td>0.0</td>\n",
       "      <td>0.01</td>\n",
       "      <td>0.01</td>\n",
       "    </tr>\n",
       "    <tr>\n",
       "      <th>3</th>\n",
       "      <td>[240, 102, 201, 235]</td>\n",
       "      <td>0.00</td>\n",
       "      <td>0.0</td>\n",
       "      <td>0.0</td>\n",
       "      <td>0.99</td>\n",
       "      <td>0.0</td>\n",
       "      <td>0.00</td>\n",
       "      <td>0.00</td>\n",
       "    </tr>\n",
       "    <tr>\n",
       "      <th>4</th>\n",
       "      <td>[241, 103, 202, 237]</td>\n",
       "      <td>0.00</td>\n",
       "      <td>0.0</td>\n",
       "      <td>0.0</td>\n",
       "      <td>0.99</td>\n",
       "      <td>0.0</td>\n",
       "      <td>0.00</td>\n",
       "      <td>0.00</td>\n",
       "    </tr>\n",
       "  </tbody>\n",
       "</table>\n",
       "</div>"
      ],
      "text/plain": [
       "                    box  angry  disgust  fear  happy  sad  surprise  neutral\n",
       "0  [244, 102, 203, 236]   0.00      0.0   0.0   0.99  0.0      0.00     0.00\n",
       "1  [244, 104, 201, 236]   0.01      0.0   0.0   0.97  0.0      0.01     0.01\n",
       "2  [244, 106, 199, 233]   0.01      0.0   0.0   0.97  0.0      0.01     0.01\n",
       "3  [240, 102, 201, 235]   0.00      0.0   0.0   0.99  0.0      0.00     0.00\n",
       "4  [241, 103, 202, 237]   0.00      0.0   0.0   0.99  0.0      0.00     0.00"
      ]
     },
     "execution_count": 16,
     "metadata": {},
     "output_type": "execute_result"
    }
   ],
   "source": [
    "emotions_df = video.to_pandas(result)\n",
    "emotions_df.head()"
   ]
  },
  {
   "cell_type": "code",
   "execution_count": 17,
   "id": "56cb985f",
   "metadata": {},
   "outputs": [
    {
     "name": "stdout",
     "output_type": "stream",
     "text": [
      "69.16 0.2700000000000001\n"
     ]
    }
   ],
   "source": [
    "positive_emotions = sum(emotions_df.happy) + sum(emotions_df.surprise)\n",
    "negative_emotions = sum(emotions_df.angry) + sum(emotions_df.disgust) + sum(emotions_df.fear) + sum(emotions_df.sad)\n",
    "print(positive_emotions,negative_emotions)"
   ]
  }
 ],
 "metadata": {
  "kernelspec": {
   "display_name": "Python 3 (ipykernel)",
   "language": "python",
   "name": "python3"
  },
  "language_info": {
   "codemirror_mode": {
    "name": "ipython",
    "version": 3
   },
   "file_extension": ".py",
   "mimetype": "text/x-python",
   "name": "python",
   "nbconvert_exporter": "python",
   "pygments_lexer": "ipython3",
   "version": "3.11.5"
  }
 },
 "nbformat": 4,
 "nbformat_minor": 5
}
