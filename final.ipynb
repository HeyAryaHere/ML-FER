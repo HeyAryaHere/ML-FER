{
 "cells": [
  {
   "cell_type": "code",
   "execution_count": 59,
   "metadata": {},
   "outputs": [
    {
     "name": "stdout",
     "output_type": "stream",
     "text": [
      "videos\n",
      "Video Emotions - Positive: 0, Negative: 0\n"
     ]
    }
   ],
   "source": [
    "def main():\n",
    "    emotion_detector = FER(mtcnn=True)\n",
    "    root_directory = \"videos\"\n",
    "\n",
    "    # Process videos in the directory\n",
    "    video_directory = os.path.join(root_directory)\n",
    "    print(video_directory)\n",
    "    positive_videos, negative_videos = process_videos_in_directory(video_directory, emotion_detector)\n",
    "    print(f\"Video Emotions - Positive: {positive_videos}, Negative: {negative_videos}\")\n",
    "\n",
    "if __name__ == \"__main__\":\n",
    "    main()"
   ]
  },
  {
   "cell_type": "code",
   "execution_count": 56,
   "metadata": {},
   "outputs": [],
   "source": [
    "import os\n",
    "import shutil\n",
    "from fer import FER\n",
    "from fer import Video"
   ]
  },
  {
   "cell_type": "code",
   "execution_count": 57,
   "metadata": {},
   "outputs": [],
   "source": [
    "def process_video(video_path, emotion_detector):\n",
    "    video = Video(video_path)\n",
    "    result = video.analyze(emotion_detector)\n",
    "    emotions_df = video.to_pandas(result)\n",
    "    positive_emotions = sum(emotions_df.happy) + sum(emotions_df.surprise)\n",
    "    negative_emotions = sum(emotions_df.angry) + sum(emotions_df.disgust) + sum(emotions_df.fear) + sum(emotions_df.sad)\n",
    "    return positive_emotions, negative_emotions\n"
   ]
  },
  {
   "cell_type": "code",
   "execution_count": 58,
   "metadata": {},
   "outputs": [],
   "source": [
    "def process_videos_in_directory(video_directory, emotion_detector):\n",
    "    positive_count = 0\n",
    "    negative_count = 0\n",
    "\n",
    "    for filename in os.listdir(video_directory):\n",
    "        if filename.endswith(\".mp4\"):\n",
    "            video_path = os.path.join(video_directory, filename)\n",
    "            positive_video, negative_video = process_video(video_path, emotion_detector)\n",
    "            \n",
    "            # Count positive and negative videos\n",
    "            positive_count += positive_video\n",
    "            negative_count += negative_video\n",
    "\n",
    "            # Move the video to the corresponding directory\n",
    "            category = \"positive\" if positive_video > negative_video else \"negative\"\n",
    "            destination_directory = os.path.join(video_directory, category)\n",
    "            os.makedirs(destination_directory, exist_ok=True)\n",
    "            shutil.move(video_path, os.path.join(destination_directory, filename))\n",
    "\n",
    "    return positive_count, negative_count"
   ]
  }
 ],
 "metadata": {
  "kernelspec": {
   "display_name": "Python 3 (ipykernel)",
   "language": "python",
   "name": "python3"
  }
 },
 "nbformat": 4,
 "nbformat_minor": 5
}
